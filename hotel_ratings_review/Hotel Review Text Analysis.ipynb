{
 "cells": [
  {
   "cell_type": "markdown",
   "metadata": {},
   "source": [
    "## Hotel Review Text Analysis"
   ]
  },
  {
   "cell_type": "code",
   "execution_count": 1,
   "metadata": {},
   "outputs": [],
   "source": [
    "# package imports\n",
    "\n",
    "# basics\n",
    "import pandas as pd\n",
    "import numpy as np\n",
    "import re\n",
    "import string\n",
    "\n",
    "# natural language processing\n",
    "import nltk\n",
    "from nltk.tokenize import RegexpTokenizer\n",
    "from nltk.corpus import stopwords\n",
    "from nltk.stem import WordNetLemmatizer\n",
    "from nltk.stem import PorterStemmer\n",
    "from nltk.util import ngrams\n",
    "\n",
    "\n",
    "#viz\n",
    "import matplotlib.pyplot as plt\n",
    "import seaborn as sns"
   ]
  },
  {
   "cell_type": "code",
   "execution_count": 2,
   "metadata": {},
   "outputs": [
    {
     "data": {
      "text/plain": [
       "'C:\\\\Users\\\\50984\\\\Desktop\\\\DataScience\\\\JupyterNotebook'"
      ]
     },
     "execution_count": 2,
     "metadata": {},
     "output_type": "execute_result"
    }
   ],
   "source": [
    "pwd"
   ]
  },
  {
   "cell_type": "code",
   "execution_count": 3,
   "metadata": {},
   "outputs": [],
   "source": [
    "df = pd.read_csv(\"C:\\\\Users\\\\50984\\\\Desktop\\\\DataScience\\\\Data\\\\hotel-reviews\\\\Datafiniti_Hotel_Reviews_Jun19.csv\")"
   ]
  },
  {
   "cell_type": "code",
   "execution_count": 4,
   "metadata": {},
   "outputs": [
    {
     "data": {
      "text/plain": [
       "(10000, 26)"
      ]
     },
     "execution_count": 4,
     "metadata": {},
     "output_type": "execute_result"
    }
   ],
   "source": [
    "df.shape"
   ]
  },
  {
   "cell_type": "code",
   "execution_count": 5,
   "metadata": {},
   "outputs": [
    {
     "data": {
      "image/png": "[encoded data removed]",
      "text/plain": [
       "<Figure size 720x432 with 1 Axes>"
      ]
     },
     "metadata": {
      "needs_background": "light"
     },
     "output_type": "display_data"
    }
   ],
   "source": [
    "# visualizing the review ratings distribution \n",
    "ratings = df['reviews.rating'].value_counts()\n",
    "\n",
    "#plot\n",
    "plt.figure(figsize=(10,6))\n",
    "ax = sns.barplot(ratings.index, ratings.values, alpha = 0.8)\n",
    "plt.title(\"Review Rating Distribution\")\n",
    "plt.ylabel('Number of Hotels', fontsize=12)\n",
    "plt.xlabel('Review Ratings ', fontsize=12)\n",
    "\n",
    "# adding labels\n",
    "rects = ax.patches\n",
    "labels = ratings.values\n",
    "\n",
    "for rect, label in zip (rects, labels):\n",
    "    height = rect.get_height()\n",
    "    ax.text(rect.get_x() + rect.get_width()/2, height + 5, label, ha='center', va='bottom')\n",
    "    \n",
    "plt.show()   "
   ]
  },
  {
   "cell_type": "markdown",
   "metadata": {},
   "source": [
    "It seems like customers are more likely to leave low rating reviews than high rating reviews "
   ]
  },
  {
   "cell_type": "code",
   "execution_count": 6,
   "metadata": {},
   "outputs": [],
   "source": [
    "# select only the interested columns\n",
    "df2 = df[['reviews.text','reviews.rating']]\n"
   ]
  },
  {
   "cell_type": "code",
   "execution_count": 7,
   "metadata": {},
   "outputs": [
    {
     "data": {
      "text/plain": [
       "reviews.text      0\n",
       "reviews.rating    0\n",
       "dtype: int64"
      ]
     },
     "execution_count": 7,
     "metadata": {},
     "output_type": "execute_result"
    }
   ],
   "source": [
    "# check for any missing valuesd\n",
    "df2.isna().sum()"
   ]
  },
  {
   "cell_type": "code",
   "execution_count": 8,
   "metadata": {},
   "outputs": [],
   "source": [
    "# text preprocessing\n",
    "\n",
    "def preprocessing (document):\n",
    "    \n",
    "    '''Returns preprocessed documents'''\n",
    "    \n",
    "    document = str(document).lower() # convert to lower cases\n",
    "    document = re.sub(r'\\d+', '', document) # remove numbers\n",
    "    document = document.translate(str.maketrans('', '', string.punctuation)) # remove punctuation\n",
    "    document = document.strip() # remove white space\n",
    "    \n",
    "    tokenizer = RegexpTokenizer(r'\\w+') # tokenize\n",
    "    tokens = tokenizer.tokenize(document)\n",
    "    \n",
    "    # stop words\n",
    "    stop_words = stopwords.words('english')  \n",
    "    filtered_words = [w for w in tokens if not w in stop_words] # remove stop words\n",
    "        \n",
    "    # generate bigrams\n",
    "    bigrams = ngrams(tokens, 2)\n",
    "    # convert to list of bigram lists\n",
    "    bigrams_clean = [list(generator) for generator in bigrams]\n",
    "    # combine stopword list\n",
    "    stop_words = stopwords.words('english')  \n",
    "   \n",
    "    # remove bigram if BOTH words are in stopword list\n",
    "    bigrams_clean = [bigram for bigram in bigrams_clean if not all(word in stop_words for word in bigram)]\n",
    "    # stem bigrams\n",
    "    wordnet_lemmatizer = WordNetLemmatizer()\n",
    "    bigrams_clean = [(wordnet_lemmatizer.lemmatize(bigram[0]),wordnet_lemmatizer.lemmatize(bigram[1])) for bigram in bigrams_clean]\n",
    "        \n",
    "        \n",
    "        # stemmer\n",
    "        #stemmer = EnglishStemmer()\n",
    "        #filtered_words_stem = [stemmer.stem(w) for w in filtered_words]\n",
    "        \n",
    "    # Lemmatization \n",
    "    wordnet_lemmatizer = WordNetLemmatizer()\n",
    "    filtered_words_lem = [wordnet_lemmatizer.lemmatize(w) for w in filtered_words]\n",
    "                \n",
    "    return (filtered_words_lem, bigrams_clean)"
   ]
  },
  {
   "cell_type": "code",
   "execution_count": 9,
   "metadata": {},
   "outputs": [],
   "source": [
    "# run preprocessing\n",
    "\n",
    "results = [preprocessing(reviews) for reviews in df2['reviews.text']]\n",
    "cleaned_df = pd.DataFrame(results, columns=['unigram_clean', 'bigrams_clean'])"
   ]
  },
  {
   "cell_type": "code",
   "execution_count": 10,
   "metadata": {},
   "outputs": [],
   "source": [
    "# reset index before concat\n",
    "df2 = df2.reset_index(drop=True)\n",
    "df3 = pd.concat([df2, cleaned_df], axis=1)"
   ]
  },
  {
   "cell_type": "code",
   "execution_count": 11,
   "metadata": {},
   "outputs": [
    {
     "data": {
      "text/html": [
       "<div>\n",
       "<style scoped>\n",
       "    .dataframe tbody tr th:only-of-type {\n",
       "        vertical-align: middle;\n",
       "    }\n",
       "\n",
       "    .dataframe tbody tr th {\n",
       "        vertical-align: top;\n",
       "    }\n",
       "\n",
       "    .dataframe thead th {\n",
       "        text-align: right;\n",
       "    }\n",
       "</style>\n",
       "<table border=\"1\" class=\"dataframe\">\n",
       "  <thead>\n",
       "    <tr style=\"text-align: right;\">\n",
       "      <th></th>\n",
       "      <th>reviews.text</th>\n",
       "      <th>reviews.rating</th>\n",
       "      <th>unigram_clean</th>\n",
       "      <th>bigrams_clean</th>\n",
       "    </tr>\n",
       "  </thead>\n",
       "  <tbody>\n",
       "    <tr>\n",
       "      <th>0</th>\n",
       "      <td>This hotel was nice and quiet. Did not know, t...</td>\n",
       "      <td>3</td>\n",
       "      <td>[hotel, nice, quiet, know, train, track, near,...</td>\n",
       "      <td>[(this, hotel), (hotel, wa), (wa, nice), (nice...</td>\n",
       "    </tr>\n",
       "    <tr>\n",
       "      <th>1</th>\n",
       "      <td>We stayed in the king suite with the separatio...</td>\n",
       "      <td>4</td>\n",
       "      <td>[stayed, king, suite, separation, bedroom, liv...</td>\n",
       "      <td>[(we, stayed), (stayed, in), (the, king), (kin...</td>\n",
       "    </tr>\n",
       "    <tr>\n",
       "      <th>2</th>\n",
       "      <td>Parking was horrible, somebody ran into my ren...</td>\n",
       "      <td>3</td>\n",
       "      <td>[parking, horrible, somebody, ran, rental, car...</td>\n",
       "      <td>[(parking, wa), (wa, horrible), (horrible, som...</td>\n",
       "    </tr>\n",
       "    <tr>\n",
       "      <th>3</th>\n",
       "      <td>Not cheap but excellent location. Price is som...</td>\n",
       "      <td>5</td>\n",
       "      <td>[cheap, excellent, location, price, somewhat, ...</td>\n",
       "      <td>[(not, cheap), (cheap, but), (but, excellent),...</td>\n",
       "    </tr>\n",
       "    <tr>\n",
       "      <th>4</th>\n",
       "      <td>If you get the room that they advertised on th...</td>\n",
       "      <td>2</td>\n",
       "      <td>[get, room, advertised, website, paid, may, lu...</td>\n",
       "      <td>[(you, get), (get, the), (the, room), (room, t...</td>\n",
       "    </tr>\n",
       "  </tbody>\n",
       "</table>\n",
       "</div>"
      ],
      "text/plain": [
       "                                        reviews.text  reviews.rating  \\\n",
       "0  This hotel was nice and quiet. Did not know, t...               3   \n",
       "1  We stayed in the king suite with the separatio...               4   \n",
       "2  Parking was horrible, somebody ran into my ren...               3   \n",
       "3  Not cheap but excellent location. Price is som...               5   \n",
       "4  If you get the room that they advertised on th...               2   \n",
       "\n",
       "                                       unigram_clean  \\\n",
       "0  [hotel, nice, quiet, know, train, track, near,...   \n",
       "1  [stayed, king, suite, separation, bedroom, liv...   \n",
       "2  [parking, horrible, somebody, ran, rental, car...   \n",
       "3  [cheap, excellent, location, price, somewhat, ...   \n",
       "4  [get, room, advertised, website, paid, may, lu...   \n",
       "\n",
       "                                       bigrams_clean  \n",
       "0  [(this, hotel), (hotel, wa), (wa, nice), (nice...  \n",
       "1  [(we, stayed), (stayed, in), (the, king), (kin...  \n",
       "2  [(parking, wa), (wa, horrible), (horrible, som...  \n",
       "3  [(not, cheap), (cheap, but), (but, excellent),...  \n",
       "4  [(you, get), (get, the), (the, room), (room, t...  "
      ]
     },
     "execution_count": 11,
     "metadata": {},
     "output_type": "execute_result"
    }
   ],
   "source": [
    "df3.head()"
   ]
  },
  {
   "cell_type": "code",
   "execution_count": null,
   "metadata": {},
   "outputs": [],
   "source": []
  }
 ],
 "metadata": {
  "kernelspec": {
   "display_name": "Python 3",
   "language": "python",
   "name": "python3"
  },
  "language_info": {
   "codemirror_mode": {
    "name": "ipython",
    "version": 3
   },
   "file_extension": ".py",
   "mimetype": "text/x-python",
   "name": "python",
   "nbconvert_exporter": "python",
   "pygments_lexer": "ipython3",
   "version": "3.7.1"
  }
 },
 "nbformat": 4,
 "nbformat_minor": 2
}
